{
 "cells": [
  {
   "cell_type": "code",
   "execution_count": 1,
   "metadata": {},
   "outputs": [],
   "source": [
    "import numpy as np\n",
    "import pandas as pd\n",
    "import timeit"
   ]
  },
  {
   "cell_type": "code",
   "execution_count": null,
   "metadata": {
    "pycharm": {
     "name": "#%%\n"
    }
   },
   "outputs": [],
   "source": [
    "\n",
    "def msp_to_df(\n",
    "    input_file,\n",
    "    max_seq_len=30,\n",
    "    min_ce=36,\n",
    "    max_ce=40,\n",
    "    mz_min=135,\n",
    "    mz_max=1400,\n",
    "):\n",
    "    \"\"\"\n",
    "    Function to read spectrum data from .msp file and convert to dataframe.\n",
    "    Args:\n",
    "        input_file (str): path to .msp file\n",
    "        max_seq_len (int): maximum acceptable sequence length\n",
    "        min_ce (int): minimum collision energy of spectra to be included in df\n",
    "        max_ce (int): maximum collision energy of spectra to be included in df\n",
    "        mz_min (int): lower boundary for m/z to be included in df\n",
    "        mz_max (int): lower boundary for m/z to be included in df\n",
    "\n",
    "    Returns:\n",
    "        df (pd.DataFrame or np.array): spectrum information within defined parameters [n_spectra, n_features]\n",
    "        seqs (pd.DataFrame or np.array): sequences\n",
    "    \"\"\"\n",
    "\n",
    "    with open(input_file, 'r') as msp_data:\n",
    "        read_msp = msp_data.read()\n",
    "        for line in read_msp:\n",
    "            if line.startswith('Name'):\n",
    "                line.split(': ', '/')\n",
    "\n",
    "\n",
    "    df = None\n",
    "    seqs = None\n",
    "\n",
    "    return df, seqs"
   ]
  },
  {
   "cell_type": "code",
   "execution_count": 80,
   "metadata": {
    "pycharm": {
     "name": "#%%\n"
    },
    "scrolled": false
   },
   "outputs": [
    {
     "ename": "SyntaxError",
     "evalue": "invalid syntax (<ipython-input-80-2b6d21ac0b37>, line 18)",
     "output_type": "error",
     "traceback": [
      "\u001B[1;36m  File \u001B[1;32m\"<ipython-input-80-2b6d21ac0b37>\"\u001B[1;36m, line \u001B[1;32m18\u001B[0m\n\u001B[1;33m    df['collision_energy'] = as.numeric(df['collision_energy'])\u001B[0m\n\u001B[1;37m                              ^\u001B[0m\n\u001B[1;31mSyntaxError\u001B[0m\u001B[1;31m:\u001B[0m invalid syntax\n"
     ]
    }
   ],
   "source": [
    "df = pd.DataFrame()\n",
    "seqs = pd.DataFrame()\n",
    "with open('../data/cptac2_mouse_hcd_selected.msp') as msp_data:\n",
    "    split_data = msp_data.read().split('\\n\\n')\n",
    "    df = pd.DataFrame(split_data,columns=['Column_Name'])\n",
    "    df = df.Column_Name.str.split('Name: ', expand=True)\n",
    "    df.columns =['Index', 'All_data'] \n",
    "    df = df.All_data.str.split('/', 1, expand=True)\n",
    "    df.columns =['Sequence', 'Data'] \n",
    "    df = df[df['Sequence'].str.len().lt(31)]\n",
    "    \n",
    "    dat = df.Data.str.split('eV', 1, expand=True)\n",
    "    dat.columns = ['Data_I_want', 'Other_data']\n",
    "    dat = dat.Data_I_want.str.split('_', 2, expand=True)\n",
    "    dat.columns = ['One', 'Two', 'ce']\n",
    "    \n",
    "    df['collision_energy'] = dat['ce']\n",
    "    df['collision_energy'] = float(df['collision_energy'])\n",
    "    \n"
   ]
  },
  {
   "cell_type": "code",
   "execution_count": 78,
   "metadata": {},
   "outputs": [
    {
     "name": "stdout",
     "output_type": "stream",
     "text": [
      "23\n"
     ]
    }
   ],
   "source": []
  }
 ],
 "metadata": {
  "kernelspec": {
   "display_name": "Python 3",
   "language": "python",
   "name": "python3"
  },
  "language_info": {
   "codemirror_mode": {
    "name": "ipython",
    "version": 3
   },
   "file_extension": ".py",
   "mimetype": "text/x-python",
   "name": "python",
   "nbconvert_exporter": "python",
   "pygments_lexer": "ipython3",
   "version": "3.7.4"
  }
 },
 "nbformat": 4,
 "nbformat_minor": 1
}