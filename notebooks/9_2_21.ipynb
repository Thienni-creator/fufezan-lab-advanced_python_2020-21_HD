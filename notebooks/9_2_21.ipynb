{
 "cells": [
  {
   "cell_type": "code",
   "execution_count": 705,
   "id": "geographic-sheep",
   "metadata": {},
   "outputs": [],
   "source": [
    "import pandas as pd\n",
    "import numpy as np\n",
    "from matplotlib import pyplot as plt\n",
    "%matplotlib inline"
   ]
  },
  {
   "cell_type": "markdown",
   "id": "silent-housing",
   "metadata": {},
   "source": [
    "# Retrieve COVID data from ECDC "
   ]
  },
  {
   "cell_type": "code",
   "execution_count": 706,
   "id": "expanded-anatomy",
   "metadata": {},
   "outputs": [],
   "source": [
    "covid_url = \"https://opendata.ecdc.europa.eu/covid19/casedistribution/json/\"\n",
    "import ssl\n",
    "ssl._create_default_https_context = ssl._create_unverified_context\n",
    "import json\n",
    "import urllib"
   ]
  },
  {
   "cell_type": "code",
   "execution_count": 707,
   "id": "median-treatment",
   "metadata": {},
   "outputs": [],
   "source": [
    "covid_json_unformated = urllib.request.urlopen(covid_url).read().decode(\"utf-8\")\n",
    "covid_json = json.loads(covid_json_unformated)\n",
    "cdf = pd.DataFrame(covid_json['records'])"
   ]
  },
  {
   "cell_type": "code",
   "execution_count": 708,
   "id": "transsexual-gibson",
   "metadata": {},
   "outputs": [
    {
     "data": {
      "text/html": [
       "<div>\n",
       "<style scoped>\n",
       "    .dataframe tbody tr th:only-of-type {\n",
       "        vertical-align: middle;\n",
       "    }\n",
       "\n",
       "    .dataframe tbody tr th {\n",
       "        vertical-align: top;\n",
       "    }\n",
       "\n",
       "    .dataframe thead th {\n",
       "        text-align: right;\n",
       "    }\n",
       "</style>\n",
       "<table border=\"1\" class=\"dataframe\">\n",
       "  <thead>\n",
       "    <tr style=\"text-align: right;\">\n",
       "      <th></th>\n",
       "      <th>dateRep</th>\n",
       "      <th>year_week</th>\n",
       "      <th>cases_weekly</th>\n",
       "      <th>deaths_weekly</th>\n",
       "      <th>countriesAndTerritories</th>\n",
       "      <th>geoId</th>\n",
       "      <th>countryterritoryCode</th>\n",
       "      <th>popData2019</th>\n",
       "      <th>continentExp</th>\n",
       "      <th>notification_rate_per_100000_population_14-days</th>\n",
       "    </tr>\n",
       "  </thead>\n",
       "  <tbody>\n",
       "    <tr>\n",
       "      <th>2917</th>\n",
       "      <td>08/06/2020</td>\n",
       "      <td>2020-23</td>\n",
       "      <td>9094</td>\n",
       "      <td>278</td>\n",
       "      <td>Egypt</td>\n",
       "      <td>EG</td>\n",
       "      <td>EGY</td>\n",
       "      <td>100388076.0</td>\n",
       "      <td>Africa</td>\n",
       "      <td>16.75</td>\n",
       "    </tr>\n",
       "    <tr>\n",
       "      <th>10130</th>\n",
       "      <td>28/12/2020</td>\n",
       "      <td>2020-52</td>\n",
       "      <td>0</td>\n",
       "      <td>0</td>\n",
       "      <td>Vanuatu</td>\n",
       "      <td>VU</td>\n",
       "      <td>VUT</td>\n",
       "      <td>299882.0</td>\n",
       "      <td>Oceania</td>\n",
       "      <td>0</td>\n",
       "    </tr>\n",
       "    <tr>\n",
       "      <th>6636</th>\n",
       "      <td>14/09/2020</td>\n",
       "      <td>2020-37</td>\n",
       "      <td>1551</td>\n",
       "      <td>16</td>\n",
       "      <td>Myanmar</td>\n",
       "      <td>MM</td>\n",
       "      <td>MMR</td>\n",
       "      <td>54045422.0</td>\n",
       "      <td>Asia</td>\n",
       "      <td>4.12</td>\n",
       "    </tr>\n",
       "    <tr>\n",
       "      <th>2318</th>\n",
       "      <td>30/03/2020</td>\n",
       "      <td>2020-13</td>\n",
       "      <td>140</td>\n",
       "      <td>1</td>\n",
       "      <td>Cote_dIvoire</td>\n",
       "      <td>CI</td>\n",
       "      <td>CIV</td>\n",
       "      <td>25716554.0</td>\n",
       "      <td>Africa</td>\n",
       "      <td>0.63</td>\n",
       "    </tr>\n",
       "    <tr>\n",
       "      <th>1161</th>\n",
       "      <td>23/03/2020</td>\n",
       "      <td>2020-12</td>\n",
       "      <td>2</td>\n",
       "      <td>0</td>\n",
       "      <td>Bhutan</td>\n",
       "      <td>BT</td>\n",
       "      <td>BTN</td>\n",
       "      <td>763094.0</td>\n",
       "      <td>Asia</td>\n",
       "      <td></td>\n",
       "    </tr>\n",
       "    <tr>\n",
       "      <th>4154</th>\n",
       "      <td>11/05/2020</td>\n",
       "      <td>2020-19</td>\n",
       "      <td>560</td>\n",
       "      <td>4</td>\n",
       "      <td>Guinea</td>\n",
       "      <td>GN</td>\n",
       "      <td>GIN</td>\n",
       "      <td>12771246.0</td>\n",
       "      <td>Africa</td>\n",
       "      <td>8.24</td>\n",
       "    </tr>\n",
       "    <tr>\n",
       "      <th>581</th>\n",
       "      <td>20/07/2020</td>\n",
       "      <td>2020-29</td>\n",
       "      <td>724</td>\n",
       "      <td>2</td>\n",
       "      <td>Austria</td>\n",
       "      <td>AT</td>\n",
       "      <td>AUT</td>\n",
       "      <td>8858775.0</td>\n",
       "      <td>Europe</td>\n",
       "      <td>14.7</td>\n",
       "    </tr>\n",
       "    <tr>\n",
       "      <th>2324</th>\n",
       "      <td>11/01/2021</td>\n",
       "      <td>2021-01</td>\n",
       "      <td>7265</td>\n",
       "      <td>331</td>\n",
       "      <td>Croatia</td>\n",
       "      <td>HR</td>\n",
       "      <td>HRV</td>\n",
       "      <td>4076246.0</td>\n",
       "      <td>Europe</td>\n",
       "      <td>367.42</td>\n",
       "    </tr>\n",
       "    <tr>\n",
       "      <th>9296</th>\n",
       "      <td>27/01/2020</td>\n",
       "      <td>2020-04</td>\n",
       "      <td>5</td>\n",
       "      <td>0</td>\n",
       "      <td>Taiwan</td>\n",
       "      <td>TW</td>\n",
       "      <td>CNG1925</td>\n",
       "      <td>23773881.0</td>\n",
       "      <td>Asia</td>\n",
       "      <td>0.02</td>\n",
       "    </tr>\n",
       "    <tr>\n",
       "      <th>187</th>\n",
       "      <td>10/08/2020</td>\n",
       "      <td>2020-32</td>\n",
       "      <td>31</td>\n",
       "      <td>0</td>\n",
       "      <td>Andorra</td>\n",
       "      <td>AD</td>\n",
       "      <td>AND</td>\n",
       "      <td>76177.0</td>\n",
       "      <td>Europe</td>\n",
       "      <td>77.45</td>\n",
       "    </tr>\n",
       "  </tbody>\n",
       "</table>\n",
       "</div>"
      ],
      "text/plain": [
       "          dateRep year_week  cases_weekly  deaths_weekly  \\\n",
       "2917   08/06/2020   2020-23          9094            278   \n",
       "10130  28/12/2020   2020-52             0              0   \n",
       "6636   14/09/2020   2020-37          1551             16   \n",
       "2318   30/03/2020   2020-13           140              1   \n",
       "1161   23/03/2020   2020-12             2              0   \n",
       "4154   11/05/2020   2020-19           560              4   \n",
       "581    20/07/2020   2020-29           724              2   \n",
       "2324   11/01/2021   2021-01          7265            331   \n",
       "9296   27/01/2020   2020-04             5              0   \n",
       "187    10/08/2020   2020-32            31              0   \n",
       "\n",
       "      countriesAndTerritories geoId countryterritoryCode  popData2019  \\\n",
       "2917                    Egypt    EG                  EGY  100388076.0   \n",
       "10130                 Vanuatu    VU                  VUT     299882.0   \n",
       "6636                  Myanmar    MM                  MMR   54045422.0   \n",
       "2318             Cote_dIvoire    CI                  CIV   25716554.0   \n",
       "1161                   Bhutan    BT                  BTN     763094.0   \n",
       "4154                   Guinea    GN                  GIN   12771246.0   \n",
       "581                   Austria    AT                  AUT    8858775.0   \n",
       "2324                  Croatia    HR                  HRV    4076246.0   \n",
       "9296                   Taiwan    TW              CNG1925   23773881.0   \n",
       "187                   Andorra    AD                  AND      76177.0   \n",
       "\n",
       "      continentExp notification_rate_per_100000_population_14-days  \n",
       "2917        Africa                                           16.75  \n",
       "10130      Oceania                                               0  \n",
       "6636          Asia                                            4.12  \n",
       "2318        Africa                                            0.63  \n",
       "1161          Asia                                                  \n",
       "4154        Africa                                            8.24  \n",
       "581         Europe                                            14.7  \n",
       "2324        Europe                                          367.42  \n",
       "9296          Asia                                            0.02  \n",
       "187         Europe                                           77.45  "
      ]
     },
     "execution_count": 708,
     "metadata": {},
     "output_type": "execute_result"
    }
   ],
   "source": [
    "cdf.sample(10)"
   ]
  },
  {
   "cell_type": "markdown",
   "id": "interesting-johnston",
   "metadata": {},
   "source": [
    "Rename columns to something more Pythonian. If you think they look already great, then at least rename `notification_rate_per_100000_population_14-days` to `14d-incidence`"
   ]
  },
  {
   "cell_type": "code",
   "execution_count": 709,
   "id": "female-substance",
   "metadata": {},
   "outputs": [],
   "source": [
    "cdf = cdf.rename(columns={\n",
    "    'dateRep': 'date_reported',\n",
    "    'year_week': 'year_and_week',\n",
    "    'cases_weekly': 'cases_per_week',\n",
    "    'deaths_weekly': 'deaths_per_week',\n",
    "    'countriesAndTerritories': 'country',\n",
    "    'geoId': 'iso_3166_1_alpha2',\n",
    "    'countryterritoryCode': 'iso_3166_1_alpha3',\n",
    "    'popData2019': 'population_2019',\n",
    "    'continentExp': 'continent',\n",
    "    'notification_rate_per_100000_population_14-days': 'incidence_14_days'\n",
    "})"
   ]
  },
  {
   "cell_type": "markdown",
   "id": "joint-roulette",
   "metadata": {},
   "source": [
    "Identify which columns have not been casted to an appropriate type during loading!"
   ]
  },
  {
   "cell_type": "code",
   "execution_count": 540,
   "id": "sized-battery",
   "metadata": {},
   "outputs": [
    {
     "data": {
      "text/plain": [
       "date_reported         object\n",
       "year_and_week         object\n",
       "cases_per_week         int64\n",
       "deaths_per_week        int64\n",
       "country               object\n",
       "iso_3166_1_alpha2     object\n",
       "iso_3166_1_alpha3     object\n",
       "population_2019      float64\n",
       "continent             object\n",
       "incidence_14_days     object\n",
       "dtype: object"
      ]
     },
     "execution_count": 540,
     "metadata": {},
     "output_type": "execute_result"
    }
   ],
   "source": [
    "cdf.dtypes"
   ]
  },
  {
   "cell_type": "code",
   "execution_count": 541,
   "id": "formed-phone",
   "metadata": {},
   "outputs": [],
   "source": [
    "cdf.country = cdf.country.astype('category')\n",
    "cdf.iso_3166_1_alpha2 = cdf.iso_3166_1_alpha2.astype('category')\n",
    "cdf.iso_3166_1_alpha3 = cdf.iso_3166_1_alpha3.astype('category')\n",
    "cdf.continent = cdf.continent.astype('category')"
   ]
  },
  {
   "cell_type": "code",
   "execution_count": 542,
   "id": "conceptual-tobacco",
   "metadata": {},
   "outputs": [],
   "source": [
    "cdf.cases_per_week = cdf.cases_per_week.astype('Int64')\n",
    "cdf.deaths_per_week = cdf.deaths_per_week.astype('Int64')"
   ]
  },
  {
   "cell_type": "code",
   "execution_count": 543,
   "id": "dietary-pressure",
   "metadata": {},
   "outputs": [
    {
     "data": {
      "text/plain": [
       "False"
      ]
     },
     "execution_count": 543,
     "metadata": {},
     "output_type": "execute_result"
    }
   ],
   "source": [
    "any((cdf.population_2019 - cdf.population_2019.round()).abs() > 1e-10)"
   ]
  },
  {
   "cell_type": "code",
   "execution_count": 544,
   "id": "becoming-welcome",
   "metadata": {},
   "outputs": [],
   "source": [
    "cdf.population_2019 = cdf.population_2019.astype('Int64')"
   ]
  },
  {
   "cell_type": "code",
   "execution_count": 712,
   "id": "square-mixer",
   "metadata": {},
   "outputs": [],
   "source": [
    "cdf.incidence_14_days = pd.to_numeric(cdf.incidence_14_days.replace('^\\s*$', pd.NA, regex=True))"
   ]
  },
  {
   "cell_type": "markdown",
   "id": "reported-laptop",
   "metadata": {},
   "source": [
    "We did not cover datetime objects in pandas, however they are quite powerful!\n",
    "\n",
    "Try:"
   ]
  },
  {
   "cell_type": "code",
   "execution_count": 546,
   "id": "public-scanner",
   "metadata": {},
   "outputs": [],
   "source": [
    "cdf.date_reported = pd.to_datetime(cdf.date_reported)"
   ]
  },
  {
   "cell_type": "markdown",
   "id": "excited-suicide",
   "metadata": {},
   "source": [
    "Now you can treat the column as a datetime objects using `df[col].dt` , e.g. https://docs.python.org/3/library/datetime.html#datetime.date.year"
   ]
  },
  {
   "cell_type": "code",
   "execution_count": 547,
   "id": "cellular-restoration",
   "metadata": {},
   "outputs": [
    {
     "data": {
      "text/plain": [
       "date_reported        datetime64[ns]\n",
       "year_and_week                object\n",
       "cases_per_week                Int64\n",
       "deaths_per_week               Int64\n",
       "country                    category\n",
       "iso_3166_1_alpha2          category\n",
       "iso_3166_1_alpha3          category\n",
       "population_2019               Int64\n",
       "continent                  category\n",
       "incidence_14_days           float64\n",
       "dtype: object"
      ]
     },
     "execution_count": 547,
     "metadata": {},
     "output_type": "execute_result"
    }
   ],
   "source": [
    "cdf.dtypes"
   ]
  },
  {
   "cell_type": "code",
   "execution_count": 548,
   "id": "monthly-northwest",
   "metadata": {},
   "outputs": [
    {
     "data": {
      "text/plain": [
       "0     2\n",
       "1    25\n",
       "2    18\n",
       "3     1\n",
       "4     1\n",
       "Name: date_reported, dtype: int64"
      ]
     },
     "execution_count": 548,
     "metadata": {},
     "output_type": "execute_result"
    }
   ],
   "source": [
    "cdf['date_reported'].dt.day.head()"
   ]
  },
  {
   "cell_type": "markdown",
   "id": "welsh-colorado",
   "metadata": {},
   "source": [
    "Create a new column `deltaTime_since_start_of_recording`"
   ]
  },
  {
   "cell_type": "code",
   "execution_count": 549,
   "id": "south-house",
   "metadata": {},
   "outputs": [],
   "source": [
    "cdf[['deltaTime_since_start_of_recording']] = cdf.date_reported - cdf.date_reported.min()"
   ]
  },
  {
   "cell_type": "markdown",
   "id": "geological-wright",
   "metadata": {},
   "source": [
    "Create histograms for different columns or describe the df. Can you spot the inconsistency in the data? Fix it! :)"
   ]
  },
  {
   "cell_type": "code",
   "execution_count": 550,
   "id": "basic-majority",
   "metadata": {},
   "outputs": [
    {
     "data": {
      "text/html": [
       "<div>\n",
       "<style scoped>\n",
       "    .dataframe tbody tr th:only-of-type {\n",
       "        vertical-align: middle;\n",
       "    }\n",
       "\n",
       "    .dataframe tbody tr th {\n",
       "        vertical-align: top;\n",
       "    }\n",
       "\n",
       "    .dataframe thead th {\n",
       "        text-align: right;\n",
       "    }\n",
       "</style>\n",
       "<table border=\"1\" class=\"dataframe\">\n",
       "  <thead>\n",
       "    <tr style=\"text-align: right;\">\n",
       "      <th></th>\n",
       "      <th>cases_per_week</th>\n",
       "      <th>deaths_per_week</th>\n",
       "      <th>population_2019</th>\n",
       "      <th>incidence_14_days</th>\n",
       "      <th>deltaTime_since_start_of_recording</th>\n",
       "    </tr>\n",
       "  </thead>\n",
       "  <tbody>\n",
       "    <tr>\n",
       "      <th>count</th>\n",
       "      <td>1.043300e+04</td>\n",
       "      <td>10433.000000</td>\n",
       "      <td>1.040800e+04</td>\n",
       "      <td>10195.000000</td>\n",
       "      <td>10433</td>\n",
       "    </tr>\n",
       "    <tr>\n",
       "      <th>mean</th>\n",
       "      <td>9.915481e+03</td>\n",
       "      <td>214.363366</td>\n",
       "      <td>4.015934e+07</td>\n",
       "      <td>85.263560</td>\n",
       "      <td>219 days 03:27:51.810600976</td>\n",
       "    </tr>\n",
       "    <tr>\n",
       "      <th>std</th>\n",
       "      <td>5.918195e+04</td>\n",
       "      <td>1017.496922</td>\n",
       "      <td>1.508375e+08</td>\n",
       "      <td>201.992927</td>\n",
       "      <td>126 days 06:36:24.926596194</td>\n",
       "    </tr>\n",
       "    <tr>\n",
       "      <th>min</th>\n",
       "      <td>-3.864000e+03</td>\n",
       "      <td>-875.000000</td>\n",
       "      <td>8.150000e+02</td>\n",
       "      <td>-132.600000</td>\n",
       "      <td>0 days 00:00:00</td>\n",
       "    </tr>\n",
       "    <tr>\n",
       "      <th>25%</th>\n",
       "      <td>9.000000e+00</td>\n",
       "      <td>0.000000</td>\n",
       "      <td>1.269670e+06</td>\n",
       "      <td>0.920000</td>\n",
       "      <td>125 days 00:00:00</td>\n",
       "    </tr>\n",
       "    <tr>\n",
       "      <th>50%</th>\n",
       "      <td>1.910000e+02</td>\n",
       "      <td>2.000000</td>\n",
       "      <td>7.169456e+06</td>\n",
       "      <td>8.470000</td>\n",
       "      <td>213 days 00:00:00</td>\n",
       "    </tr>\n",
       "    <tr>\n",
       "      <th>75%</th>\n",
       "      <td>2.615000e+03</td>\n",
       "      <td>42.000000</td>\n",
       "      <td>2.851583e+07</td>\n",
       "      <td>71.225000</td>\n",
       "      <td>304 days 00:00:00</td>\n",
       "    </tr>\n",
       "    <tr>\n",
       "      <th>max</th>\n",
       "      <td>1.782792e+06</td>\n",
       "      <td>23518.000000</td>\n",
       "      <td>1.433784e+09</td>\n",
       "      <td>4343.440000</td>\n",
       "      <td>665 days 00:00:00</td>\n",
       "    </tr>\n",
       "  </tbody>\n",
       "</table>\n",
       "</div>"
      ],
      "text/plain": [
       "       cases_per_week  deaths_per_week  population_2019  incidence_14_days  \\\n",
       "count    1.043300e+04     10433.000000     1.040800e+04       10195.000000   \n",
       "mean     9.915481e+03       214.363366     4.015934e+07          85.263560   \n",
       "std      5.918195e+04      1017.496922     1.508375e+08         201.992927   \n",
       "min     -3.864000e+03      -875.000000     8.150000e+02        -132.600000   \n",
       "25%      9.000000e+00         0.000000     1.269670e+06           0.920000   \n",
       "50%      1.910000e+02         2.000000     7.169456e+06           8.470000   \n",
       "75%      2.615000e+03        42.000000     2.851583e+07          71.225000   \n",
       "max      1.782792e+06     23518.000000     1.433784e+09        4343.440000   \n",
       "\n",
       "      deltaTime_since_start_of_recording  \n",
       "count                              10433  \n",
       "mean         219 days 03:27:51.810600976  \n",
       "std          126 days 06:36:24.926596194  \n",
       "min                      0 days 00:00:00  \n",
       "25%                    125 days 00:00:00  \n",
       "50%                    213 days 00:00:00  \n",
       "75%                    304 days 00:00:00  \n",
       "max                    665 days 00:00:00  "
      ]
     },
     "execution_count": 550,
     "metadata": {},
     "output_type": "execute_result"
    }
   ],
   "source": [
    "cdf.describe()"
   ]
  },
  {
   "cell_type": "code",
   "execution_count": 551,
   "id": "prerequisite-chorus",
   "metadata": {},
   "outputs": [
    {
     "data": {
      "text/plain": [
       "0        False\n",
       "1        False\n",
       "2        False\n",
       "3        False\n",
       "4        False\n",
       "         ...  \n",
       "10428    False\n",
       "10429    False\n",
       "10430    False\n",
       "10431    False\n",
       "10432    False\n",
       "Name: cases_per_week, Length: 10433, dtype: boolean"
      ]
     },
     "execution_count": 551,
     "metadata": {},
     "output_type": "execute_result"
    }
   ],
   "source": [
    "cdf.cases_per_week < 0"
   ]
  },
  {
   "cell_type": "code",
   "execution_count": 552,
   "id": "acting-issue",
   "metadata": {},
   "outputs": [],
   "source": [
    "cdf.cases_per_week.mask(cdf.cases_per_week < 0, pd.NA, inplace=True)\n",
    "cdf.deaths_per_week.mask(cdf.deaths_per_week < 0, pd.NA, inplace=True)\n",
    "cdf.incidence_14_days.mask(cdf.incidence_14_days < 0, pd.NA, inplace=True)"
   ]
  },
  {
   "cell_type": "markdown",
   "id": "actual-monday",
   "metadata": {},
   "source": [
    "Identify those countries (grouped by continent) which showed the most drastic increase most drastic and decrease of the `14d-incidence` within the different years since recording. Visualize intuitively!"
   ]
  },
  {
   "cell_type": "code",
   "execution_count": 713,
   "id": "moving-fabric",
   "metadata": {},
   "outputs": [],
   "source": [
    "weekly_reports = cdf[['year_and_week', 'country', 'date_reported', 'cases_per_week', 'deaths_per_week', 'incidence_14_days']] \\\n",
    "    .set_index(['year_and_week', 'country']) \\\n",
    "    .groupby(level=[0, 1]) \\\n",
    "    .first() \\\n",
    "    .reset_index()\n",
    "\n",
    "weekly_reports[['year', 'week_of_year']] = weekly_reports.year_and_week.str.split('-', expand=True).astype('int')\n",
    "\n",
    "weekly_reports.drop(columns='year_and_week', inplace=True)\n",
    "weekly_reports.set_index(['year', 'week_of_year'], inplace=True)\n",
    "\n",
    "incidence_difference = weekly_reports.groupby('country') \\\n",
    "    .incidence_14_days \\\n",
    "    .rolling(2) \\\n",
    "    .apply(lambda series: series.iloc[1] - series.iloc[0]) \\\n",
    "    .reorder_levels([1, 2, 0])\n",
    "\n",
    "weekly_reports.reset_index(inplace=True)\n",
    "weekly_reports.set_index(['year', 'week_of_year', 'country'], inplace=True)\n",
    "\n",
    "weekly_reports[['incidence_diff']] = incidence_difference\n",
    "\n",
    "country_info = cdf[['country', 'iso_3166_1_alpha2', 'iso_3166_1_alpha3', 'population_2019', 'continent']] \\\n",
    "    .set_index('country') \\\n",
    "    .groupby(level=0) \\\n",
    "    .first()"
   ]
  },
  {
   "cell_type": "markdown",
   "id": "spatial-tyler",
   "metadata": {},
   "source": [
    "Which country showed the highest/lowest fluctuation in `14d-incidence` within a year?"
   ]
  },
  {
   "cell_type": "markdown",
   "id": "apart-boulder",
   "metadata": {},
   "source": [
    "Create a line plot showing the `14-incidence` for all European countries. Use `groupby` operation to generate the data list for the plotly plot. "
   ]
  },
  {
   "cell_type": "markdown",
   "id": "warming-bargain",
   "metadata": {},
   "source": [
    "Create a smoothed version of the `14d-incidence` by averaging 3 months."
   ]
  },
  {
   "cell_type": "markdown",
   "id": "advisory-growth",
   "metadata": {},
   "source": [
    "Create a radial plot of death rate / 100000 people (see popData2019), where one year completes a circle, i.e. 360˚. Visualize the recored years for Italy, Germany, Sweden and Greece. Hint you might need to turn the dateTime into `day within the year` (%j) and adjust 365 to 360 degrees. "
   ]
  },
  {
   "cell_type": "markdown",
   "id": "sublime-orlando",
   "metadata": {},
   "source": [
    "Optional: Find \"regular\" mortality rates for those countries and visualize it in the plot as well."
   ]
  }
 ],
 "metadata": {
  "kernelspec": {
   "display_name": "Python 3",
   "language": "python",
   "name": "python3"
  },
  "language_info": {
   "codemirror_mode": {
    "name": "ipython",
    "version": 3
   },
   "file_extension": ".py",
   "mimetype": "text/x-python",
   "name": "python",
   "nbconvert_exporter": "python",
   "pygments_lexer": "ipython3",
   "version": "3.8.5"
  }
 },
 "nbformat": 4,
 "nbformat_minor": 5
}
